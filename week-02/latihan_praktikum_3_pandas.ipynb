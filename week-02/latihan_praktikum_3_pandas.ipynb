{
  "nbformat": 4,
  "nbformat_minor": 0,
  "metadata": {
    "colab": {
      "provenance": [],
      "authorship_tag": "ABX9TyOCbDsPUiUhxV4gw115/EGD",
      "include_colab_link": true
    },
    "kernelspec": {
      "name": "python3",
      "display_name": "Python 3"
    },
    "language_info": {
      "name": "python"
    }
  },
  "cells": [
    {
      "cell_type": "markdown",
      "metadata": {
        "id": "view-in-github",
        "colab_type": "text"
      },
      "source": [
        "<a href=\"https://colab.research.google.com/github/S4putri/221230005-Pengantar-ML/blob/main/week-02/latihan_praktikum_3_pandas.ipynb\" target=\"_parent\"><img src=\"https://colab.research.google.com/assets/colab-badge.svg\" alt=\"Open In Colab\"/></a>"
      ]
    },
    {
      "cell_type": "markdown",
      "source": [
        "# 🏋️ LATIHAN 3: OPERASI PANDAS UNTUK DATA ANALYSIS"
      ],
      "metadata": {
        "id": "aaMww8qjdqCW"
      }
    },
    {
      "cell_type": "markdown",
      "source": [
        "EXPLORATORY DATA ANALYSIS"
      ],
      "metadata": {
        "id": "bow9wQuvdv4h"
      }
    },
    {
      "cell_type": "code",
      "source": [
        "import pandas as pd\n",
        "import numpy as np\n",
        "\n",
        "'''TODO: Analisis Dataset Retail'''\n",
        "# Create sample retail dataset\n",
        "np.random.seed(42)\n",
        "dates = pd.date_range('2023-01-01', '2023-03-31', freq='D')\n",
        "retail_data = pd.DataFrame({\n",
        "    'date': np.random.choice(dates, 1000),           # tanggal transaksi\n",
        "    'product_id': np.random.randint(1, 11, 1000),    # id produk\n",
        "    'quantity': np.random.randint(1, 10, 1000),      # jumlah produk\n",
        "    'price': np.random.uniform(10, 100, 1000),       # harga produk\n",
        "    'customer_id': np.random.randint(1, 101, 1000)   # id customer\n",
        "})\n",
        "retail_data['revenue'] = retail_data['quantity'] * retail_data['price']  # hitung revenue per transaksi\n",
        "\n",
        "# TODO 1: Hitung total revenue per product\n",
        "revenue_per_product = (\n",
        "    retail_data.groupby('product_id')['revenue']  # group per produk\n",
        "    .sum()                                        # total revenue\n",
        "    .sort_values(ascending=False)                 # urutkan dari terbesar\n",
        ")\n",
        "\n",
        "# TODO 2: Temukan top 5 customers berdasarkan total spending\n",
        "top_customers = (\n",
        "    retail_data.groupby('customer_id')['revenue']  # group per customer\n",
        "    .sum()\n",
        "    .sort_values(ascending=False)                  # urutkan dari terbesar\n",
        "    .head(5)                                       # ambil 5 teratas\n",
        ")\n",
        "\n",
        "# TODO 3: Analisis time series - revenue per hari\n",
        "daily_revenue = (\n",
        "    retail_data.groupby('date')['revenue']  # group per hari\n",
        "    .sum()                                  # jumlahkan revenue harian\n",
        ")\n",
        "\n",
        "# TODO 4: Buat fungsi untuk detect anomalies dalam quantity\n",
        "def detect_quantity_anomalies(df, threshold=2.0):\n",
        "    q_mean, q_std = df['quantity'].mean(), df['quantity'].std(ddof=0)\n",
        "    zscores = (df['quantity'] - q_mean) / q_std\n",
        "    mask = zscores.abs() > threshold\n",
        "    return df.loc[mask].assign(quantity_zscore=zscores[mask])\n",
        "\n",
        "anomalies = detect_quantity_anomalies(retail_data)\n",
        "\n",
        "# Assertions\n",
        "assert len(revenue_per_product) <= 10, \"Should have max 10 products\"\n",
        "assert len(top_customers) == 5, \"Should have top 5 customers\"\n",
        "\n",
        "\n",
        "# Menampilkan hasil utama\n",
        "print(\"1. Revenue per Product:\")\n",
        "print(revenue_per_product)\n",
        "\n",
        "print(\"\\n2. Top 5 Customers by Spending:\")\n",
        "print(top_customers)\n",
        "\n",
        "print(\"\\n3. Daily Revenue (first 10 days):\")\n",
        "print(daily_revenue.head(10))\n",
        "\n",
        "print(f\"\\n4. Quantity Anomalies detected: {len(anomalies)}\")\n",
        "print(\"Anomalies sample:\")\n",
        "print(anomalies[['date','product_id','quantity','quantity_zscore']].head())\n",
        "\n",
        "print(\"✅ Pandas operations completed\")"
      ],
      "metadata": {
        "id": "BG0rhNY3UjiV",
        "outputId": "5dca31f6-2f4e-4d85-c7f8-81007976edce",
        "colab": {
          "base_uri": "https://localhost:8080/"
        }
      },
      "execution_count": 6,
      "outputs": [
        {
          "output_type": "stream",
          "name": "stdout",
          "text": [
            "1. Revenue per Product:\n",
            "product_id\n",
            "8     32062.915807\n",
            "9     30812.566464\n",
            "7     30786.212454\n",
            "5     29894.628309\n",
            "6     29771.241361\n",
            "2     28433.373576\n",
            "3     27360.489903\n",
            "10    25146.428705\n",
            "1     24953.204554\n",
            "4     23950.525430\n",
            "Name: revenue, dtype: float64\n",
            "\n",
            "2. Top 5 Customers by Spending:\n",
            "customer_id\n",
            "38    5239.536260\n",
            "59    5185.221233\n",
            "89    4759.149270\n",
            "94    4690.528278\n",
            "15    4657.289888\n",
            "Name: revenue, dtype: float64\n",
            "\n",
            "3. Daily Revenue (first 10 days):\n",
            "date\n",
            "2023-01-01    5268.121555\n",
            "2023-01-02    4656.102661\n",
            "2023-01-03    3226.578585\n",
            "2023-01-04    2462.071219\n",
            "2023-01-05    3741.645829\n",
            "2023-01-06    2617.910977\n",
            "2023-01-07    2503.241611\n",
            "2023-01-08    5032.490882\n",
            "2023-01-09    4344.183819\n",
            "2023-01-10    1700.299375\n",
            "Name: revenue, dtype: float64\n",
            "\n",
            "4. Quantity Anomalies detected: 0\n",
            "Anomalies sample:\n",
            "Empty DataFrame\n",
            "Columns: [date, product_id, quantity, quantity_zscore]\n",
            "Index: []\n",
            "✅ Pandas operations completed\n"
          ]
        }
      ]
    }
  ]
}