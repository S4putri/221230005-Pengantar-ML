{
  "nbformat": 4,
  "nbformat_minor": 0,
  "metadata": {
    "colab": {
      "provenance": [],
      "authorship_tag": "ABX9TyP2qLuXRmz0uTQaaVUqpPrM",
      "include_colab_link": true
    },
    "kernelspec": {
      "name": "python3",
      "display_name": "Python 3"
    },
    "language_info": {
      "name": "python"
    }
  },
  "cells": [
    {
      "cell_type": "markdown",
      "metadata": {
        "id": "view-in-github",
        "colab_type": "text"
      },
      "source": [
        "<a href=\"https://colab.research.google.com/github/S4putri/221230005-Pengantar-ML/blob/main/week-02/latihan_praktikum_4_pytorch.ipynb\" target=\"_parent\"><img src=\"https://colab.research.google.com/assets/colab-badge.svg\" alt=\"Open In Colab\"/></a>"
      ]
    },
    {
      "cell_type": "markdown",
      "source": [
        "# 🏋️ LATIHAN 4: OPERASI PYTORCH UNTUK DEEP LEARNING"
      ],
      "metadata": {
        "id": "t7pfrav0sKmf"
      }
    },
    {
      "cell_type": "markdown",
      "source": [
        "TENSOR OPERATIONS FOR NEURAL NETWORKS"
      ],
      "metadata": {
        "id": "97WeZxuUsPrO"
      }
    },
    {
      "cell_type": "code",
      "source": [
        "import torch\n",
        "\n",
        "'''TODO: Implementasi Operasi Dasar Neural Networks'''\n",
        "# Simulasi batch data: 32 samples, 10 features\n",
        "batch_size, n_features = 32, 10\n",
        "X = torch.randn(batch_size, n_features)\n",
        "weights = torch.randn(n_features, 1)  # bobot linear layer\n",
        "bias = torch.randn(1)  # bias linear layer\n",
        "\n",
        "# TODO 1: Implementasi linear layer manual: y = XW + b\n",
        "def linear_layer(X, W, b):\n",
        "    return X @ W + b\n",
        "\n",
        "output = linear_layer(X, weights, bias)\n",
        "print(f\"Input shape: {X.shape}\")\n",
        "print(f\"Output (linear) shape: {output.shape}\")\n",
        "print(\"Linear output (first 5 rows):\")\n",
        "print(output[:5])\n",
        "\n",
        "# TODO 2: Implementasi ReLU activation function\n",
        "def relu_activation(tensor):\n",
        "    return torch.clamp(tensor, min=0)\n",
        "\n",
        "activated = relu_activation(output)\n",
        "print(\"\\nReLU output (first 5 rows):\")\n",
        "print(activated[:5])\n",
        "\n",
        "# TODO 3: Batch normalization sederhana\n",
        "def simple_batch_norm(tensor, eps=1e-6):\n",
        "    mean = tensor.mean(dim=0, keepdim=True)  # rata-rata per kolom\n",
        "    std = tensor.std(dim=0, unbiased=False)  # standar deviasi per kolom\n",
        "    return (tensor - mean) / (std + eps)\n",
        "\n",
        "normalized = simple_batch_norm(X)\n",
        "print(\"\\nBatch normalized X (first 3 rows):\")\n",
        "print(normalized[:3])\n",
        "\n",
        "# TODO 4: One-hot encoding manual\n",
        "def one_hot_pytorch(labels, num_classes):\n",
        "    one_hot = torch.zeros((labels.size(0), num_classes))\n",
        "    one_hot[torch.arange(labels.size(0)), labels] = 1\n",
        "    return one_hot\n",
        "\n",
        "labels = torch.randint(0, 3, (10,))\n",
        "one_hot = one_hot_pytorch(labels, num_classes=3)\n",
        "print(f\"\\nLabels: {labels}\")\n",
        "print(\"One-hot encoded labels:\")\n",
        "print(one_hot)\n",
        "\n",
        "# Validasi hasil\n",
        "assert output.shape == (batch_size, 1), \"Linear output shape incorrect\"\n",
        "assert torch.all(activated >= 0), \"ReLU should be >= 0\"\n",
        "assert normalized.shape == X.shape, \"Batch norm should preserve shape\"\n",
        "assert one_hot.shape == (10, 3), \"One-hot shape incorrect\"\n",
        "\n",
        "print(\"✅ PyTorch operations completed\")\n",
        "\n",
        "### BONUS: ADVANCED TENSOR OPERATIONS ###\n",
        "print(\"\\n=== ADVANCED MATRIX MULTIPLICATION ===\")\n",
        "\n",
        "def manual_matrix_multiply(A, B):\n",
        "    \"\"\"\n",
        "    Implementasi perkalian matriks manual tanpa torch.matmul\n",
        "    \"\"\"\n",
        "    m, n = A.shape\n",
        "    _, p = B.shape\n",
        "    result = torch.zeros((m, p))\n",
        "    for i in range(m):\n",
        "        for j in range(p):\n",
        "            for k in range(n):\n",
        "                result[i, j] += A[i, k] * B[k, j]\n",
        "    return result\n",
        "\n",
        "# Test dengan matriks kecil\n",
        "A = torch.tensor([[1, 2], [3, 4]], dtype=torch.float32)\n",
        "B = torch.tensor([[5, 6], [7, 8]], dtype=torch.float32)\n",
        "\n",
        "manual_result = manual_matrix_multiply(A, B)\n",
        "torch_result = torch.matmul(A, B)\n",
        "\n",
        "print(\"Matrix A:\\n\", A)\n",
        "print(\"Matrix B:\\n\", B)\n",
        "print(\"Manual multiplication result:\\n\", manual_result)\n",
        "print(\"Torch matmul result:\\n\", torch_result)\n",
        "print(\"Results equal:\", torch.allclose(manual_result, torch_result))\n",
        "\n",
        "assert torch.allclose(manual_result, torch_result), \"Manual multiplication incorrect\"\n",
        "\n",
        "print(\"\\n✅ Advanced tensor operations completed\")"
      ],
      "metadata": {
        "colab": {
          "base_uri": "https://localhost:8080/"
        },
        "id": "Mu6OLqQ6pbmK",
        "outputId": "f133d054-4890-471f-d82c-b9f77e1574da"
      },
      "execution_count": 2,
      "outputs": [
        {
          "output_type": "stream",
          "name": "stdout",
          "text": [
            "Input shape: torch.Size([32, 10])\n",
            "Output (linear) shape: torch.Size([32, 1])\n",
            "Linear output (first 5 rows):\n",
            "tensor([[ 0.6339],\n",
            "        [-1.9878],\n",
            "        [-2.2032],\n",
            "        [-0.9875],\n",
            "        [ 2.8954]])\n",
            "\n",
            "ReLU output (first 5 rows):\n",
            "tensor([[0.6339],\n",
            "        [0.0000],\n",
            "        [0.0000],\n",
            "        [0.0000],\n",
            "        [2.8954]])\n",
            "\n",
            "Batch normalized X (first 3 rows):\n",
            "tensor([[-0.5141,  0.8008, -0.5294, -1.3244, -0.3392, -0.9776, -0.9904, -1.2340,\n",
            "         -0.6733, -0.4794],\n",
            "        [-0.0334, -0.4849,  1.3821, -1.0705, -0.6571, -0.5196,  0.3008,  0.0895,\n",
            "         -0.7198, -0.4937],\n",
            "        [-1.5293, -0.0519, -0.2622, -0.1690, -1.0511,  0.6132, -0.9550,  0.4997,\n",
            "         -2.3376, -2.5974]])\n",
            "\n",
            "Labels: tensor([2, 2, 0, 1, 2, 1, 0, 2, 0, 0])\n",
            "One-hot encoded labels:\n",
            "tensor([[0., 0., 1.],\n",
            "        [0., 0., 1.],\n",
            "        [1., 0., 0.],\n",
            "        [0., 1., 0.],\n",
            "        [0., 0., 1.],\n",
            "        [0., 1., 0.],\n",
            "        [1., 0., 0.],\n",
            "        [0., 0., 1.],\n",
            "        [1., 0., 0.],\n",
            "        [1., 0., 0.]])\n",
            "✅ PyTorch operations completed\n",
            "\n",
            "=== ADVANCED MATRIX MULTIPLICATION ===\n",
            "Matrix A:\n",
            " tensor([[1., 2.],\n",
            "        [3., 4.]])\n",
            "Matrix B:\n",
            " tensor([[5., 6.],\n",
            "        [7., 8.]])\n",
            "Manual multiplication result:\n",
            " tensor([[19., 22.],\n",
            "        [43., 50.]])\n",
            "Torch matmul result:\n",
            " tensor([[19., 22.],\n",
            "        [43., 50.]])\n",
            "Results equal: True\n",
            "\n",
            "✅ Advanced tensor operations completed\n"
          ]
        }
      ]
    }
  ]
}