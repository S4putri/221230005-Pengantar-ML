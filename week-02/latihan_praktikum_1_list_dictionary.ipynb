{
  "nbformat": 4,
  "nbformat_minor": 0,
  "metadata": {
    "colab": {
      "provenance": [],
      "authorship_tag": "ABX9TyPOOHHiDIyuwxu38DcuhzD4",
      "include_colab_link": true
    },
    "kernelspec": {
      "name": "python3",
      "display_name": "Python 3"
    },
    "language_info": {
      "name": "python"
    }
  },
  "cells": [
    {
      "cell_type": "markdown",
      "metadata": {
        "id": "view-in-github",
        "colab_type": "text"
      },
      "source": [
        "<a href=\"https://colab.research.google.com/github/S4putri/221230005-Pengantar-ML/blob/main/week-02/latihan_praktikum_1_list_dictionary.ipynb\" target=\"_parent\"><img src=\"https://colab.research.google.com/assets/colab-badge.svg\" alt=\"Open In Colab\"/></a>"
      ]
    },
    {
      "cell_type": "markdown",
      "source": [
        "# 🏋️ LATIHAN 1: OPERASI LIST DAN DICTIONARY"
      ],
      "metadata": {
        "id": "uSbPy_i7SdRU"
      }
    },
    {
      "cell_type": "markdown",
      "source": [
        "OPERASI LIST"
      ],
      "metadata": {
        "id": "svmVc9R7Stx0"
      }
    },
    {
      "cell_type": "code",
      "source": [
        "'''TODO: Manipulasi Data List untuk Preprocessing'''\n",
        "# Data mentah dari sensor\n",
        "raw_data = [23.5, 24.1, 22.8, 25.3, 21.9, 26.7, 20.5, 24.8, 23.2, 25.9]\n",
        "\n",
        "# TODO 1: Filter data yang berada di range 22-25 derajat\n",
        "filtered_data = [x for x in raw_data if 22 <= x <= 25]\n",
        "# Hanya ambil nilai yang berada antara 22 dan 25\n",
        "\n",
        "# TODO 2: Normalisasi data ke range 0-1 menggunakan min-max scaling\n",
        "min_val, max_val = min(raw_data), max(raw_data)\n",
        "# min dan max dipakai untuk skala\n",
        "\n",
        "normalized_data = [(x - min_val) / (max_val - min_val) for x in raw_data]\n",
        "# Rumus min-max scaling: (nilai - min) / (max - min)\n",
        "\n",
        "# TODO 3: Hitung moving average dengan window size 3\n",
        "def moving_average(data, window_size):\n",
        "    # moving average = rata-rata dari n (window_size) data yang berurutan\n",
        "    result = []\n",
        "    for i in range(len(data) - window_size + 1):\n",
        "        window = data[i:i+window_size]   # ambil potongan data sepanjang window_size\n",
        "        avg = sum(window) / window_size  # hitung rata-rata\n",
        "        result.append(avg)               # simpan hasil ke list\n",
        "    return result\n",
        "\n",
        "ma_result = moving_average(raw_data, 3)\n",
        "# hitung moving average untuk raw_data dengan window 3\n",
        "\n",
        "# Validasi hasil\n",
        "print(\"Raw data:\", raw_data)\n",
        "print(\"Filtered data (22-25):\", filtered_data)\n",
        "print(\"Normalized data:\", [round(x, 3) for x in normalized_data])\n",
        "print(\"Moving average (window=3):\", [round(x, 3) for x in ma_result])\n"
      ],
      "metadata": {
        "colab": {
          "base_uri": "https://localhost:8080/"
        },
        "id": "LCuUrnVKSsj9",
        "outputId": "eb8dc4a1-a0fa-4375-db2d-2ee59eb40761"
      },
      "execution_count": null,
      "outputs": [
        {
          "output_type": "stream",
          "name": "stdout",
          "text": [
            "Raw data: [23.5, 24.1, 22.8, 25.3, 21.9, 26.7, 20.5, 24.8, 23.2, 25.9]\n",
            "Filtered data (22-25): [23.5, 24.1, 22.8, 24.8, 23.2]\n",
            "Normalized data: [0.484, 0.581, 0.371, 0.774, 0.226, 1.0, 0.0, 0.694, 0.435, 0.871]\n",
            "Moving average (window=3): [23.467, 24.067, 23.333, 24.633, 23.033, 24.0, 22.833, 24.633]\n"
          ]
        }
      ]
    },
    {
      "cell_type": "markdown",
      "source": [
        "OPERASI DICTIONARY"
      ],
      "metadata": {
        "id": "bpnDiHNCTh1y"
      }
    },
    {
      "cell_type": "code",
      "source": [
        "'''SOLUSI: Processing Dataset untuk Machine Learning'''\n",
        "# Dataset sample untuk klasifikasi\n",
        "dataset = [\n",
        "    {'features': [1.2, 3.4, 2.1], 'label': 'class_A'},\n",
        "    {'features': [2.3, 1.5, 4.2], 'label': 'class_B'},\n",
        "    {'features': [3.1, 2.8, 1.9], 'label': 'class_A'},\n",
        "    {'features': [4.2, 3.9, 2.5], 'label': 'class_B'}\n",
        "]\n",
        "\n",
        "# TODO 4: Kelompokkan data berdasarkan label\n",
        "def group_by_label(data):\n",
        "    grouped = {}  # dictionary kosong untuk menampung data per kelas\n",
        "    for item in data:\n",
        "        label = item['label']        # ambil label dari item\n",
        "        features = item['features']  # ambil fitur dari item\n",
        "        if label not in grouped:     # jika label belum ada, buat list kosong\n",
        "            grouped[label] = []\n",
        "        grouped[label].append(features)  # tambahkan fitur ke dalam list sesuai label\n",
        "    return grouped\n",
        "\n",
        "\n",
        "# TODO 5: Hitung rata-rata features per kelas\n",
        "def average_features_per_class(grouped_data):\n",
        "    averages = {}  # dictionary untuk simpan rata-rata\n",
        "    for label, features_list in grouped_data.items():\n",
        "        n_features = len(features_list[0]) # jumlah fitur (misalnya 3)\n",
        "        # jumlahkan tiap fitur lalu dibagi banyaknya sample\n",
        "        sums = [sum(features[i] for features in features_list) for i in range(n_features)]\n",
        "        # Hitung rata-rata per fitur\n",
        "        averages[label] = [s / len(features_list) for s in sums]\n",
        "    return averages\n",
        "\n",
        "# Eksekusi fungsi\n",
        "grouped_data = group_by_label(dataset)\n",
        "avg_features = average_features_per_class(grouped_data)\n",
        "\n",
        "# Cetak hasil grouping\n",
        "print(\"\\n📊 Grouped data by label:\")\n",
        "for label, features in grouped_data.items():\n",
        "    print(f\"{label}: {features}\")\n",
        "\n",
        "# Cetak hasil rata-rata\n",
        "print(\"\\n📈 Average features per class:\")\n",
        "for label, avg in avg_features.items():\n",
        "    print(f\"{label}: {[round(x, 3) for x in avg]}\")\n",
        "\n",
        "\n",
        "assert 'class_A' in grouped_data, \"Should contain class_A\"\n",
        "assert 'class_B' in grouped_data, \"Should contain class_B\"\n",
        "print(\"✅ Dictionary operations completed\")\n"
      ],
      "metadata": {
        "colab": {
          "base_uri": "https://localhost:8080/"
        },
        "id": "I5dscv7PToMX",
        "outputId": "2e0910d3-6122-4445-e009-565720f2c258"
      },
      "execution_count": null,
      "outputs": [
        {
          "output_type": "stream",
          "name": "stdout",
          "text": [
            "\n",
            "📊 Grouped data by label:\n",
            "class_A: [[1.2, 3.4, 2.1], [3.1, 2.8, 1.9]]\n",
            "class_B: [[2.3, 1.5, 4.2], [4.2, 3.9, 2.5]]\n",
            "\n",
            "📈 Average features per class:\n",
            "class_A: [2.15, 3.1, 2.0]\n",
            "class_B: [3.25, 2.7, 3.35]\n",
            "✅ Dictionary operations completed\n"
          ]
        }
      ]
    }
  ]
}