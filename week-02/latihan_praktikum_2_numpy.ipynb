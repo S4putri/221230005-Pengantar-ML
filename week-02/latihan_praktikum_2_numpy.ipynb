{
  "nbformat": 4,
  "nbformat_minor": 0,
  "metadata": {
    "colab": {
      "provenance": [],
      "authorship_tag": "ABX9TyPm8pOWBYzpc0wAUt9vBkUi",
      "include_colab_link": true
    },
    "kernelspec": {
      "name": "python3",
      "display_name": "Python 3"
    },
    "language_info": {
      "name": "python"
    }
  },
  "cells": [
    {
      "cell_type": "markdown",
      "metadata": {
        "id": "view-in-github",
        "colab_type": "text"
      },
      "source": [
        "<a href=\"https://colab.research.google.com/github/S4putri/221230005-Pengantar-ML/blob/main/week-02/latihan_praktikum_2_numpy.ipynb\" target=\"_parent\"><img src=\"https://colab.research.google.com/assets/colab-badge.svg\" alt=\"Open In Colab\"/></a>"
      ]
    },
    {
      "cell_type": "markdown",
      "source": [
        "# 🏋️ LATIHAN 2: OPERASI NUMPY UNTUK MACHINE LEARNING"
      ],
      "metadata": {
        "id": "QvE20MUevxI4"
      }
    },
    {
      "cell_type": "markdown",
      "source": [
        "DATA PREPROCESSING DENGAN NUMPY"
      ],
      "metadata": {
        "id": "dobVJlojw6lP"
      }
    },
    {
      "cell_type": "code",
      "source": [
        "import numpy as np\n",
        "\n",
        "'''TODO: Implementasi Preprocessing Pipeline'''\n",
        "# Dataset simulasi: 100 samples, 5 features\n",
        "np.random.seed(42)  # Supaya hasil random bisa direproduksi\n",
        "X = np.random.randn(100, 5) * 10 + 5  # Data dengan mean ≈ 5, std ≈ 10\n",
        "\n",
        "\n",
        "# TODO 1: Normalisasi Z-score: (x - mean) / std\n",
        "def z_score_normalization(data):\n",
        "    mean = np.mean(data, axis=0)   # rata-rata tiap fitur\n",
        "    std = np.std(data, axis=0)     # standar deviasi tiap fitur\n",
        "\n",
        "    # Error handling: jika ada fitur dengan std=0, ganti std=1 agar tidak division by zero\n",
        "    std_safe = np.where(std == 0, 1, std)\n",
        "\n",
        "    normalized = (data - mean) / std_safe\n",
        "    return normalized\n",
        "\n",
        "X_normalized = z_score_normalization(X)\n",
        "\n",
        "\n",
        "# TODO 2: Handle outliers - clip values di luar ±3 std\n",
        "def handle_outliers(data, std_threshold=3):\n",
        "    mean = np.mean(data, axis=0)   # mean tiap fitur\n",
        "    std = np.std(data, axis=0)     # std tiap fitur\n",
        "\n",
        "    lower_bound = mean - std_threshold * std\n",
        "    upper_bound = mean + std_threshold * std\n",
        "\n",
        "    # Gunakan np.clip (vectorized)\n",
        "    cleaned = np.clip(data, lower_bound, upper_bound)\n",
        "    return cleaned\n",
        "\n",
        "X_cleaned = handle_outliers(X_normalized)\n",
        "\n",
        "\n",
        "# TODO 3: One-hot encoding untuk label kategorikal\n",
        "def one_hot_encoding(labels):\n",
        "    if labels.size == 0:\n",
        "        raise ValueError(\"Labels tidak boleh kosong.\")\n",
        "\n",
        "    classes, encoded = np.unique(labels, return_inverse=True)\n",
        "    one_hot = np.zeros((labels.size, classes.size))\n",
        "    one_hot[np.arange(labels.size), encoded] = 1\n",
        "    return one_hot\n",
        "\n",
        "labels = np.array([0, 1, 2, 0, 1, 2, 0])\n",
        "one_hot_labels = one_hot_encoding(labels)    # hasil one-hot encoding\n",
        "\n",
        "\n",
        "# TODO 4: Train-test split manual\n",
        "def train_test_split_numpy(X, y, test_size=0.2):\n",
        "    if not (0 < test_size < 1):\n",
        "        raise ValueError(\"test_size harus antara 0 dan 1.\")\n",
        "\n",
        "    n_samples = X.shape[0]                # jumlah data\n",
        "    n_test = int(n_samples * test_size)   # jumlah data test\n",
        "\n",
        "    indices = np.random.permutation(n_samples)  # shuffle index\n",
        "    test_idx = indices[:n_test]                 # ambil index test\n",
        "    train_idx = indices[n_test:]                # ambil index train\n",
        "\n",
        "    return X[train_idx], X[test_idx], y[train_idx], y[test_idx]\n",
        "\n",
        "# Contoh label acak untuk split\n",
        "y = np.random.randint(0, 3, 100)\n",
        "X_train, X_test, y_train, y_test = train_test_split_numpy(X, y, test_size=0.2) # hasil spilt\n",
        "\n",
        "\n",
        "# ✅ Validasi hasil\n",
        "assert X_normalized.shape == X.shape, \"Shape harus tetap sama\"\n",
        "assert np.allclose(X_normalized.mean(axis=0), 0, atol=1e-10), \"Mean harus ~0 setelah z-score\"\n",
        "assert np.allclose(X_normalized.std(axis=0), 1, atol=1e-10), \"Std harus ~1 setelah z-score\"\n",
        "assert len(X_train) + len(X_test) == len(X), \"Jumlah data harus konsisten\"\n",
        "\n",
        "# Output ringkas\n",
        "print(\"Original data shape:\", X.shape)\n",
        "print(\"Normalized data mean:\", X_normalized.mean(axis=0).round(3))\n",
        "print(\"Normalized data std:\", X_normalized.std(axis=0).round(3))\n",
        "print(\"One-hot labels shape:\", one_hot_labels.shape)\n",
        "print(\"One-hot labels:\\n\", one_hot_labels)\n",
        "print(\"Train shape:\", X_train.shape, \"| Test shape:\", X_test.shape)\n",
        "print(\"✅ NumPy operations completed\")\n"
      ],
      "metadata": {
        "colab": {
          "base_uri": "https://localhost:8080/"
        },
        "id": "RJZFg0H-WJ2f",
        "outputId": "b202c708-e457-472a-daa2-4035bc434227"
      },
      "execution_count": null,
      "outputs": [
        {
          "output_type": "stream",
          "name": "stdout",
          "text": [
            "Original data shape: (100, 5)\n",
            "Normalized data mean: [-0.  0. -0. -0.  0.]\n",
            "Normalized data std: [1. 1. 1. 1. 1.]\n",
            "One-hot labels shape: (7, 3)\n",
            "One-hot labels:\n",
            " [[1. 0. 0.]\n",
            " [0. 1. 0.]\n",
            " [0. 0. 1.]\n",
            " [1. 0. 0.]\n",
            " [0. 1. 0.]\n",
            " [0. 0. 1.]\n",
            " [1. 0. 0.]]\n",
            "Train shape: (80, 5) | Test shape: (20, 5)\n",
            "✅ NumPy operations completed\n"
          ]
        }
      ]
    }
  ]
}